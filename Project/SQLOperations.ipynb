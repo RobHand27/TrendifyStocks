{
 "cells": [
  {
   "cell_type": "code",
   "execution_count": null,
   "id": "d4891020",
   "metadata": {},
   "outputs": [],
   "source": [
    "def register(username:str, password:str, fName:str, lName:str) -> str:\n",
    "    cursor.execute(f\"SELECT * FROM Users WHERE Username=?;\", [username])\n",
    "    if len(cursor.fetchall()) > 0 :\n",
    "        return \"Username already exists.\"\n",
    "    else:\n",
    "        cursor.execute(\"INSERT INTO Users VALUES (?, ?, ?, ?);\", [username, password, fName, lName])\n",
    "        cursor.execute(\"INSERT INTO Scores VALUES (?,?);\", [username, 0])\n",
    "        conn.commit()\n",
    "        return \"Successful\""
   ]
  }
 ],
 "metadata": {
  "kernelspec": {
   "display_name": "Python 3 (ipykernel)",
   "language": "python",
   "name": "python3"
  },
  "language_info": {
   "codemirror_mode": {
    "name": "ipython",
    "version": 3
   },
   "file_extension": ".py",
   "mimetype": "text/x-python",
   "name": "python",
   "nbconvert_exporter": "python",
   "pygments_lexer": "ipython3",
   "version": "3.7.0"
  }
 },
 "nbformat": 4,
 "nbformat_minor": 5
}
