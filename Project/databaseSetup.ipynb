{
 "cells": [
  {
   "cell_type": "code",
   "execution_count": 1,
   "id": "491d2d36",
   "metadata": {},
   "outputs": [],
   "source": [
    "import sqlite3 as sql\n",
    "conn = sql.connect(\"main.db\")\n",
    "cursor = conn.cursor()\n"
   ]
  },
  {
   "cell_type": "code",
   "execution_count": 2,
   "id": "18de74b0",
   "metadata": {},
   "outputs": [
    {
     "ename": "OperationalError",
     "evalue": "no such table: Content",
     "output_type": "error",
     "traceback": [
      "\u001b[0;31m---------------------------------------------------------------------------\u001b[0m",
      "\u001b[0;31mOperationalError\u001b[0m                          Traceback (most recent call last)",
      "\u001b[0;32m/var/folders/h7/86r91_k91gv_mk1xv4d_pgnw0000gn/T/ipykernel_7476/1329953044.py\u001b[0m in \u001b[0;36m<module>\u001b[0;34m\u001b[0m\n\u001b[0;32m----> 1\u001b[0;31m \u001b[0mcursor\u001b[0m\u001b[0;34m.\u001b[0m\u001b[0mexecute\u001b[0m\u001b[0;34m(\u001b[0m\u001b[0;34m\"SELECT * FROM Content\"\u001b[0m\u001b[0;34m)\u001b[0m\u001b[0;34m\u001b[0m\u001b[0m\n\u001b[0m\u001b[1;32m      2\u001b[0m \u001b[0mcursor\u001b[0m\u001b[0;34m.\u001b[0m\u001b[0mfetchall\u001b[0m\u001b[0;34m(\u001b[0m\u001b[0;34m)\u001b[0m\u001b[0;34m\u001b[0m\u001b[0m\n",
      "\u001b[0;31mOperationalError\u001b[0m: no such table: Content"
     ]
    }
   ],
   "source": [
    "cursor.execute(\"SELECT * FROM Content\")\n",
    "cursor.fetchall()"
   ]
  },
  {
   "cell_type": "code",
   "execution_count": 21,
   "id": "b5b01436",
   "metadata": {
    "scrolled": true
   },
   "outputs": [
    {
     "data": {
      "text/plain": [
       "<sqlite3.Cursor at 0x7fa7bc8672d0>"
      ]
     },
     "execution_count": 21,
     "metadata": {},
     "output_type": "execute_result"
    }
   ],
   "source": [
    "# creating user table\n",
    "cursor.execute(\"\"\"CREATE TABLE Users (\n",
    "                Username VARCHAR(100) PRIMARY KEY, \n",
    "                Password VARCHAR(100), \n",
    "                FirstName VARCHAR(100), \n",
    "                LastName VARCHAR(100)\n",
    "               );\"\"\")"
   ]
  },
  {
   "cell_type": "code",
   "execution_count": 25,
   "id": "819409ad",
   "metadata": {},
   "outputs": [
    {
     "data": {
      "text/plain": [
       "<sqlite3.Cursor at 0x7fa7bc8672d0>"
      ]
     },
     "execution_count": 25,
     "metadata": {},
     "output_type": "execute_result"
    }
   ],
   "source": [
    "# creating question table\n",
    "cursor.execute(\"\"\"CREATE TABLE Questions (\n",
    "                QuestionID INTEGER PRIMARY KEY AUTOINCREMENT,\n",
    "                Question VARCHAR(100),\n",
    "                Company VARCHAR(100),\n",
    "                Points INT,\n",
    "                CorrectChoice VARCHAR(100),\n",
    "                IncorrectOne VARCHAR(100),\n",
    "                IncorrectTwo VARCHAR(100),\n",
    "                IncorrectThree VARCHAR(100)\n",
    "                );\"\"\")"
   ]
  },
  {
   "cell_type": "code",
   "execution_count": 3,
   "id": "a8a87700",
   "metadata": {},
   "outputs": [
    {
     "data": {
      "text/plain": [
       "<sqlite3.Cursor at 0x7fa405668e30>"
      ]
     },
     "execution_count": 3,
     "metadata": {},
     "output_type": "execute_result"
    }
   ],
   "source": [
    "# creating content table \n",
    "cursor.execute(\"\"\" CREATE TABLE Content (\n",
    "                CompanyName VARCHAR(100) PRIMARY KEY,\n",
    "                Content TEXT\n",
    "\n",
    ");\"\"\")"
   ]
  },
  {
   "cell_type": "code",
   "execution_count": 70,
   "id": "051f0dac",
   "metadata": {},
   "outputs": [],
   "source": [
    "cursor.execute(\"\"\"INSERT INTO Questions \n",
    "                (Question, Company, Points, CorrectChoice, IncorrectOne, IncorrectTwo, IncorrectThree) \n",
    "                VALUES \n",
    "               ('What is Google''s average trading volume?', 'Google', '4', '20.9mn', '15.28mn', '32.4mn', '45.93mn')\"\"\")\n",
    "conn.commit()"
   ]
  },
  {
   "cell_type": "code",
   "execution_count": 71,
   "id": "380c7a3d",
   "metadata": {},
   "outputs": [
    {
     "data": {
      "text/plain": [
       "8"
      ]
     },
     "execution_count": 71,
     "metadata": {},
     "output_type": "execute_result"
    }
   ],
   "source": [
    "cursor.execute(\"SELECT * FROM Questions WHERE Company='Google'\")\n",
    "\n",
    "len(cursor.fetchall())"
   ]
  },
  {
   "cell_type": "code",
   "execution_count": 26,
   "id": "9953ee77",
   "metadata": {
    "scrolled": true
   },
   "outputs": [
    {
     "ename": "OperationalError",
     "evalue": "table Scores already exists",
     "output_type": "error",
     "traceback": [
      "\u001b[0;31m---------------------------------------------------------------------------\u001b[0m",
      "\u001b[0;31mOperationalError\u001b[0m                          Traceback (most recent call last)",
      "\u001b[0;32m/var/folders/h7/86r91_k91gv_mk1xv4d_pgnw0000gn/T/ipykernel_5638/1883501066.py\u001b[0m in \u001b[0;36m<module>\u001b[0;34m\u001b[0m\n\u001b[1;32m      3\u001b[0m                \u001b[0mUsername\u001b[0m \u001b[0mVARCHAR\u001b[0m\u001b[0;34m(\u001b[0m\u001b[0;36m100\u001b[0m\u001b[0;34m)\u001b[0m \u001b[0mPRIMARY\u001b[0m \u001b[0mKEY\u001b[0m\u001b[0;34m,\u001b[0m\u001b[0;34m\u001b[0m\u001b[0m\n\u001b[1;32m      4\u001b[0m                \u001b[0mPoints\u001b[0m \u001b[0mINT\u001b[0m\u001b[0;34m\u001b[0m\u001b[0m\n\u001b[0;32m----> 5\u001b[0;31m                 );\"\"\")\n\u001b[0m",
      "\u001b[0;31mOperationalError\u001b[0m: table Scores already exists"
     ]
    }
   ],
   "source": [
    "# creating score table\n",
    "cursor.execute(\"\"\"CREATE TABLE Scores (\n",
    "               Username VARCHAR(100) PRIMARY KEY,\n",
    "               Points INT\n",
    "                );\"\"\")"
   ]
  },
  {
   "cell_type": "code",
   "execution_count": 27,
   "id": "bf9a5a5d",
   "metadata": {},
   "outputs": [],
   "source": [
    "def register(username:str, password:str, fName:str, lName:str) -> str:\n",
    "    cursor.execute(f\"SELECT * FROM Users WHERE Username=?;\", [username])\n",
    "    if len(cursor.fetchall()) > 0 :\n",
    "        return \"Username already exists.\"\n",
    "    else:\n",
    "        cursor.execute(\"INSERT INTO Users VALUES (?, ?, ?, ?);\", [username, password, fName, lName])\n",
    "        cursor.execute(\"INSERT INTO Scores VALUES (?,?);\", [username, 0])\n",
    "        conn.commit()\n",
    "        return \"Successful\"\n"
   ]
  },
  {
   "cell_type": "code",
   "execution_count": 10,
   "id": "bab6787c",
   "metadata": {},
   "outputs": [
    {
     "data": {
      "text/plain": [
       "<sqlite3.Cursor at 0x7fa405668e30>"
      ]
     },
     "execution_count": 10,
     "metadata": {},
     "output_type": "execute_result"
    }
   ],
   "source": [
    "# Adding content\n",
    "cursor.execute(\"\"\"INSERT INTO Content VALUES ('Walmart', \n",
    "'''Walmart'', the multinational retail giant, had its Initial Public Offering (IPO) on October 1st, 1970, marking a significant milestone in its journey from a single discount store to a global retail powerhouse. Founded by Sam Walton, the company''s ethos of providing \"Everyday Low Prices\" has been a driving force behind its success. With 53% of its stock floated and 34% institutionally owned, Walmart''s ownership structure reflects both individual and institutional confidence in its enduring business model. The company, known for its extensive range of products, efficient supply chain, and expansive store network, has undergone nine stock splits, demonstrating its consistent growth and shareholder value creation.\n",
    "\n",
    "In terms of financial performance, Walmart''s 52-week high at $166.61 highlights its capacity to attract investor interest and maintain a robust market position. Conversely, the 52-week low at $136.09 underscores its resilience in the face of market fluctuations. At the helm is CEO Doug McMillon, who has played a pivotal role in steering Walmart through the challenges and opportunities of the ever-evolving retail landscape. Notably, Walmart''s average trading volume of 10.1 million shares per day emphasizes its significance in the stock market and the ongoing interest it garners from investors worldwide.''');\"\"\")"
   ]
  },
  {
   "cell_type": "code",
   "execution_count": 12,
   "id": "919e02b2",
   "metadata": {},
   "outputs": [
    {
     "data": {
      "text/plain": [
       "5"
      ]
     },
     "execution_count": 12,
     "metadata": {},
     "output_type": "execute_result"
    }
   ],
   "source": [
    "conn.commit()\n",
    "cursor.execute(\"SELECT * FROM Content\")\n",
    "len(cursor.fetchall())"
   ]
  },
  {
   "cell_type": "code",
   "execution_count": null,
   "id": "54295d0f",
   "metadata": {},
   "outputs": [],
   "source": []
  }
 ],
 "metadata": {
  "kernelspec": {
   "display_name": "Python 3 (ipykernel)",
   "language": "python",
   "name": "python3"
  },
  "language_info": {
   "codemirror_mode": {
    "name": "ipython",
    "version": 3
   },
   "file_extension": ".py",
   "mimetype": "text/x-python",
   "name": "python",
   "nbconvert_exporter": "python",
   "pygments_lexer": "ipython3",
   "version": "3.7.0"
  }
 },
 "nbformat": 4,
 "nbformat_minor": 5
}
