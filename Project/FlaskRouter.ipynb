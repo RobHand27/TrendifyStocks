{
 "cells": [
  {
   "cell_type": "code",
   "execution_count": 29,
   "id": "fd998000",
   "metadata": {},
   "outputs": [],
   "source": [
    "import sqlite3\n",
    "conn = sqlite3.connect('main.db') # insert user/password database file name here\n",
    "cursor = conn.cursor() # create cursor object"
   ]
  },
  {
   "cell_type": "code",
   "execution_count": 30,
   "id": "d3af76e4",
   "metadata": {},
   "outputs": [],
   "source": [
    "# def register(username:str, password:str, fName:str, lName:str) -> str:\n",
    "def registerUser(username, password, fName, lName):\n",
    "    cursor.execute(f\"SELECT * FROM Users WHERE Username=?;\", [username])\n",
    "    if len(cursor.fetchall()) > 0 :\n",
    "        return \"Username already exists.\"\n",
    "    else:\n",
    "        cursor.execute(\"INSERT INTO Users VALUES (?, ?, ?, ?);\", [username, password, fName, lName])\n",
    "        cursor.execute(\"INSERT INTO Scores VALUES (?,?);\", [username, 0])\n",
    "        conn.commit()\n",
    "        return \"Successful\""
   ]
  },
  {
   "cell_type": "code",
   "execution_count": 31,
   "id": "2709b31a",
   "metadata": {},
   "outputs": [],
   "source": [
    "def loginUser(user, password):\n",
    "    cursor.execute(\"SELECT * FROM Users WHERE Username = ?\",[user]) # searches the database for the entered username\n",
    "    result = cursor.fetchall()\n",
    "    print(result)\n",
    "    if len(result) == 0: # checks if an account with such a username exists\n",
    "        return \"No Username\"\n",
    "    correct_password = result[0][1] # assumes the correct password is kept in column index 1 of the database \n",
    "    if password == correct_password: # compares entered password and possible correct passwords (assuming duplicate usernames are allowed)\n",
    "        return \"Logged In\"\n",
    "    return \"Incorrect Password\""
   ]
  },
  {
   "cell_type": "code",
   "execution_count": 32,
   "id": "a02c976a",
   "metadata": {},
   "outputs": [],
   "source": [
    "def correctness(questionNum, answer): #answer is entered as string or as 2-d array entry\n",
    "    search_num = questionNum\n",
    "    cursor.execute(\"SELECT * FROM Questions WHERE QuestionID = ?\",[search_num])\n",
    "    result = cursor.fetchall()\n",
    "    if answer == result[0][4]:  # checks if entry equals the correct answer\n",
    "        return result[0][3] # replace ? with the column index of the point value assigned to the question\n",
    "    else:\n",
    "        return 0"
   ]
  },
  {
   "cell_type": "code",
   "execution_count": 33,
   "id": "49c1049a",
   "metadata": {},
   "outputs": [],
   "source": [
    "import random\n",
    "def shuffle(question_num):\n",
    "    cursor.execute(\"SELECT * FROM Questions WHERE QuestionID = (?)\",[question_num]) #parses database for question id\n",
    "    result = cursor.fetchall()\n",
    "    question_list = [result[0][4], result[0][5], result[0][6], result[0][7]] #assembles list of question options\n",
    "    random.shuffle(question_list) #shuffles list\n",
    "    return question_list #returns shuffled list"
   ]
  },
  {
   "cell_type": "code",
   "execution_count": 34,
   "id": "fcc43b2c",
   "metadata": {},
   "outputs": [],
   "source": [
    "def addPoints(questionId, answer, user): #note, as of 10/31, you can answer the same question multiple times and farm infinite points.\n",
    "    newPoints = correctness(questionId, answer) #finds number of points earned from previous function\n",
    "    cursor.execute(\"SELECT * FROM Scores WHERE Username = (?)\",[user]) #finds number of points from the points table\n",
    "    result = cursor.fetchall()\n",
    "    updated_points = result[0][1] + newPoints #adds old points and newly earned points\n",
    "    cursor.execute(\"UPDATE Scores SET Points = (?) WHERE Username = (?)\", [updated_points, user]) #updates table value for username\n",
    "    conn.commit()"
   ]
  },
  {
   "cell_type": "code",
   "execution_count": 35,
   "id": "eeab7dd6",
   "metadata": {},
   "outputs": [
    {
     "data": {
      "text/plain": [
       "[('Rhand8', 'test', 'Rob', 'Hand'),\n",
       " ('jsmith', 'test', 'john', 'smith'),\n",
       " ('talb', 'test', 'tim', 'alb')]"
      ]
     },
     "execution_count": 35,
     "metadata": {},
     "output_type": "execute_result"
    }
   ],
   "source": [
    "cursor.execute(\"SELECT * FROM Users;\")\n",
    "cursor.fetchall()"
   ]
  },
  {
   "cell_type": "code",
   "execution_count": 36,
   "id": "97527373",
   "metadata": {},
   "outputs": [
    {
     "data": {
      "text/plain": [
       "\"Founded in 1976 by Steve Jobs, Steve Wozniak, and Ronald Wayne, Apple has become synonymous with innovation, design, and consumer technology. The journey of this tech giant took a significant turn on December 12th, 1980, when it conducted its Initial Public Offering (IPO), a pivotal moment that transformed the company into a publicly traded entity. Apple's IPO marked the beginning of its ascent from a garage-based startup to a global tech powerhouse, setting the stage for decades of groundbreaking products and services.\\n\\nApple's stock ownership is remarkably widespread, with an impressive 99.94% float, making its shares accessible to a vast range of investors. Institutional ownership stands at 59.59%, signifying a considerable presence in the portfolios of major financial entities. The company's commitment to investor accessibility is further evident in its history of five stock splits, a strategic move to enhance liquidity and make its shares more appealing to a broader investor base.\\n\\nThe stock performance of Apple reflects the dynamism of the market, with a 52-week high of $198.23 and a low of $124.17. These fluctuations mirror the ever-changing landscape of the tech industry, where Apple continues to play a leading role. Steering the company through these shifts is Tim Cook, who assumed the role of CEO in 2011, following the passing of Apple's visionary co-founder, Steve Jobs. Under Cook's leadership, Apple has expanded its product portfolio, delving into new markets and emphasizing services alongside its iconic hardware.\\n\\nWith an average trading volume of 57.3 million shares per day, Apple remains a focal point in the global stock market. The company's influence extends far beyond its Silicon Valley origins, symbolizing the intersection of technology and consumer culture on a global scale. As Apple continues to innovate and redefine the tech landscape, its history and financial dynamics underscore its enduring impact on both the industry and the investment landscape.\""
      ]
     },
     "execution_count": 36,
     "metadata": {},
     "output_type": "execute_result"
    }
   ],
   "source": [
    "def getContent(company):\n",
    "    cursor.execute(\"SELECT * FROM Content where CompanyName=?\", [company])\n",
    "    result = cursor.fetchall()[0]\n",
    "    return result[1][1:-1]\n",
    "\n",
    "getContent(\"Apple\")"
   ]
  },
  {
   "cell_type": "code",
   "execution_count": 37,
   "id": "47728039",
   "metadata": {},
   "outputs": [
    {
     "name": "stdout",
     "output_type": "stream",
     "text": [
      " * Serving Flask app '__main__'\n",
      " * Debug mode: on\n"
     ]
    },
    {
     "name": "stderr",
     "output_type": "stream",
     "text": [
      "\u001b[31m\u001b[1mWARNING: This is a development server. Do not use it in a production deployment. Use a production WSGI server instead.\u001b[0m\n",
      " * Running on http://127.0.0.1:5000\n",
      "\u001b[33mPress CTRL+C to quit\u001b[0m\n",
      " * Restarting with stat\n",
      "Traceback (most recent call last):\n",
      "  File \"/Users/roberthand/Library/Python/3.9/lib/python/site-packages/ipykernel_launcher.py\", line 17, in <module>\n",
      "    app.launch_new_instance()\n",
      "  File \"/Users/roberthand/Library/Python/3.9/lib/python/site-packages/traitlets/config/application.py\", line 1045, in launch_instance\n",
      "    app.initialize(argv)\n",
      "  File \"/Users/roberthand/Library/Python/3.9/lib/python/site-packages/traitlets/config/application.py\", line 113, in inner\n",
      "    return method(app, *args, **kwargs)\n",
      "  File \"/Users/roberthand/Library/Python/3.9/lib/python/site-packages/ipykernel/kernelapp.py\", line 689, in initialize\n",
      "    self.init_sockets()\n",
      "  File \"/Users/roberthand/Library/Python/3.9/lib/python/site-packages/ipykernel/kernelapp.py\", line 328, in init_sockets\n",
      "    self.shell_port = self._bind_socket(self.shell_socket, self.shell_port)\n",
      "  File \"/Users/roberthand/Library/Python/3.9/lib/python/site-packages/ipykernel/kernelapp.py\", line 252, in _bind_socket\n",
      "    return self._try_bind_socket(s, port)\n",
      "  File \"/Users/roberthand/Library/Python/3.9/lib/python/site-packages/ipykernel/kernelapp.py\", line 228, in _try_bind_socket\n",
      "    s.bind(\"tcp://%s:%i\" % (self.ip, port))\n",
      "  File \"/Users/roberthand/Library/Python/3.9/lib/python/site-packages/zmq/sugar/socket.py\", line 302, in bind\n",
      "    super().bind(addr)\n",
      "  File \"zmq/backend/cython/socket.pyx\", line 564, in zmq.backend.cython.socket.Socket.bind\n",
      "  File \"zmq/backend/cython/checkrc.pxd\", line 28, in zmq.backend.cython.checkrc._check_rc\n",
      "zmq.error.ZMQError: Address already in use (addr='tcp://127.0.0.1:52756')\n"
     ]
    },
    {
     "ename": "SystemExit",
     "evalue": "1",
     "output_type": "error",
     "traceback": [
      "An exception has occurred, use %tb to see the full traceback.\n",
      "\u001b[0;31mSystemExit\u001b[0m\u001b[0;31m:\u001b[0m 1\n"
     ]
    },
    {
     "name": "stderr",
     "output_type": "stream",
     "text": [
      "/Users/roberthand/Library/Python/3.9/lib/python/site-packages/IPython/core/interactiveshell.py:3534: UserWarning: To exit: use 'exit', 'quit', or Ctrl-D.\n",
      "  warn(\"To exit: use 'exit', 'quit', or Ctrl-D.\", stacklevel=1)\n"
     ]
    }
   ],
   "source": [
    "from werkzeug.wrappers import Request, Response\n",
    "from flask import Flask, render_template, request, url_for, flash, redirect\n",
    "\n",
    "\n",
    "app = Flask(__name__)\n",
    "app.config['SECRET_KEY'] = 'superdupersecretkeythatnobodywouldeverguess'\n",
    "\n",
    "\n",
    "@app.route(\"/\", methods=('GET', 'POST'))\n",
    "def index():\n",
    "    return render_template('index.html')\n",
    "\n",
    "@app.route(\"/register\", methods=('GET', 'POST'))\n",
    "def register():\n",
    "    print(\"tried to register\")\n",
    "    if request.method == 'POST':\n",
    "        username = str(request.form.get(\"uname\"))\n",
    "        password = str(request.form.get(\"psw\"))\n",
    "        firstname = str(request.form.get(\"fname\"))\n",
    "        lastname = str(request.form.get(\"lname\"))\n",
    "        out = registerUser(username, password, firstname, lastname)\n",
    "        if out == \"Successful\":\n",
    "            return redirect(url_for('index'))\n",
    "        else:\n",
    "            print(\"Register failed\")\n",
    "    \n",
    "@app.route(\"/login\", methods=('GET', 'POST'))\n",
    "def login():\n",
    "    print(\"tried to login\")\n",
    "    if request.method == 'POST':\n",
    "        username = str(request.form.get(\"uname\"))\n",
    "        password = str(request.form.get(\"psw\"))\n",
    "        out = loginUser(username, password)\n",
    "        if out == \"Logged In\":\n",
    "            return redirect(url_for('home', user=username))\n",
    "        else:\n",
    "            flash('Incorrect Username or Password', 'error')\n",
    "            return redirect(url_for('index'))\n",
    "    \n",
    "@app.route(\"/home\")\n",
    "def home():\n",
    "    return render_template('home.html')\n",
    "\n",
    "@app.route(\"/index\", methods=('GET', 'POST'))\n",
    "def index2():\n",
    "    return render_template('index.html')\n",
    "\n",
    "@app.route(\"/lessons\", methods=[\"POST\", \"GET\"])\n",
    "def lessons():\n",
    "    if request.method == \"POST\":\n",
    "        # Handle form submission if needed\n",
    "        pass\n",
    "    return render_template('lessons.html')\n",
    "\n",
    "@app.route(\"/practice\", methods=[\"POST\", \"GET\"])\n",
    "def practice():\n",
    "    if request.method == \"POST\":\n",
    "        # Handle form submission if needed\n",
    "        pass\n",
    "    return render_template(\"practice.html\")\n",
    "\n",
    "@app.route(\"/lessonsfn\", methods=[\"POST\", \"GET\"])\n",
    "def lessonsfn():\n",
    "    if request.method == \"POST\":\n",
    "        x = str(request.form.get(\"lesson_type\"))\n",
    "        print(x + \"lessons\")\n",
    "        content = getContent(x)\n",
    "        return render_template(\"lessoncontent.html\", content=content)\n",
    "\n",
    "@app.route(\"/practicefn\", methods=[\"POST\", \"GET\"])\n",
    "def practicefn():\n",
    "    if request.method == \"POST\":\n",
    "        x = str(request.form.get(\"lesson_type\"))\n",
    "        print(x + \"practice\")\n",
    "        return render_template(\"quiz.html\", questions=questions)\n",
    "\n",
    "@app.route(\"/output/<name>\")\n",
    "def output(name):\n",
    "    \n",
    "    #creates a new list that holds the information we were passed\n",
    "    return_list = []\n",
    "    return_list.append(name);\n",
    "    \n",
    "    # returns the scraped data as a list to output.html\n",
    "    return render_template('output.html', output_list=return_list, output_string=name)\n",
    "\n",
    "# this snippet of code is another syntactical inclusion - it's not as important to understand everything\n",
    "# that's happening here, but it essentially decides where your flask app is going to run on the local device\n",
    "if __name__ == '__main__':\n",
    "    from werkzeug.serving import run_simple\n",
    "\n",
    "    # the \"8080\" means that the flask app will run on http://localhost:8080/\n",
    "    # you can change this to any other viable port if 8080 is currently in use\n",
    "    # for example, you can change the line below to read \"run_simple('localhost', 9000, app)\", and then\n",
    "    # access the flask app through http://localhost:9000/ - the port is completely changeable and\n",
    "    # does not affect your code at all beyond where you access it from\n",
    "    app.run(debug=True)\n",
    "    run_simple('localhost', 8080, app)"
   ]
  },
  {
   "cell_type": "code",
   "execution_count": null,
   "id": "c9cd20c4-4a03-4fbb-a547-bf41e5a3ca5a",
   "metadata": {},
   "outputs": [],
   "source": []
  }
 ],
 "metadata": {
  "kernelspec": {
   "display_name": "Python 3 (ipykernel)",
   "language": "python",
   "name": "python3"
  },
  "language_info": {
   "codemirror_mode": {
    "name": "ipython",
    "version": 3
   },
   "file_extension": ".py",
   "mimetype": "text/x-python",
   "name": "python",
   "nbconvert_exporter": "python",
   "pygments_lexer": "ipython3",
   "version": "3.9.6"
  }
 },
 "nbformat": 4,
 "nbformat_minor": 5
}
